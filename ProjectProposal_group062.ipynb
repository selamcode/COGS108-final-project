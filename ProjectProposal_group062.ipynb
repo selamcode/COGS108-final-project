{
 "cells": [
  {
   "cell_type": "markdown",
   "metadata": {},
   "source": [
    "# COGS 108 - Final Project Proposal"
   ]
  },
  {
   "cell_type": "markdown",
   "metadata": {},
   "source": [
    "# Names\n",
    "\n",
    "-  Gerardo Romero     ger013@ucsd.edu          JerryRomer0\n",
    "- Tejen Bhakta        tbhakta@ucsd.edu         TejBhakta\n",
    "- Emil Salmanzadeh    esalmanz@ucsd.edu        EmilSalmanzadeh\n",
    "- Brian Solis         bdsolis@ucsd.edu         solisbrian\n",
    "- Selamsew kebede     skebede@ucsd.edu         selamcode"
   ]
  },
  {
   "cell_type": "markdown",
   "metadata": {},
   "source": [
    "# Group Members IDs\n",
    "\n",
    "- A14712652\n",
    "- A16104078\n",
    "- A14204007\n",
    "- A15699314\n",
    "- A15723274"
   ]
  },
  {
   "cell_type": "markdown",
   "metadata": {},
   "source": [
    "# Research Question"
   ]
  },
  {
   "cell_type": "markdown",
   "metadata": {},
   "source": [
    "Is there a relationship between susceptibility to misinformation and reduced mask wearing/social distancing?"
   ]
  },
  {
   "cell_type": "markdown",
   "metadata": {},
   "source": [
    "## Background and Prior Work"
   ]
  },
  {
   "cell_type": "markdown",
   "metadata": {},
   "source": [
    "*Fill in your background and prior work here. Be sure to specify which statements are from which references.*\n",
    "\n",
    "Our study focuses on the relationship between susceptibility to misinformation and reduced mask wearing & social distancing. During the current pandemic, misinformation has been running rampant among social media platforms and mass media platforms, often becoming a partisan issue between political parties. The source and backing of the misinformation will also be studied.\n",
    "\n",
    "Prior Work:\n",
    "We began with an interest in exploring how individuals’ exposure to different media might change their perception of COVID related information. We examined research published in Nature which focused on the differences in attitudes across countries based on how much trust respondents had in government media outlets. Additionally, we were interested in the effects of political outlook attitudes towards utilization of masks; there  is a correlation between having right-leaning political attitudes and expressing belief in conspiratorial views. We wanted to combine these two strands and explore the relationship between attitudes and mask wearing practices.\n",
    "\n",
    "- a) A global survey of potential acceptance of a COVID-19 vaccine\n",
    "- b) The Paranoid Style in American Politics Revisited: An Ideological Asymmetry in Conspiratorial Thinking\n",
    "\n",
    "\n",
    "\n",
    "References (include links):\n",
    "- 1)  https://old.reddit.com/r/science/comments/jcxrg9/study_heightened_susceptibility_to_misinformation/\n",
    "- 2)  https://old.reddit.com/r/science/comments/jcz4zx/4_studies_confirm_conservatives_in_the_us_are/\n",
    "- 3)  https://old.reddit.com/r/science/comments/jfa4ze/715_of_people_reported_that_they_would_be_very_or/\n",
    "- 4)  https://en.wikipedia.org/wiki/Misinformation_related_to_the_COVID-19_pandemic\n"
   ]
  },
  {
   "cell_type": "markdown",
   "metadata": {},
   "source": [
    "# Hypothesis\n"
   ]
  },
  {
   "cell_type": "markdown",
   "metadata": {},
   "source": [
    "The greater the contradiction between media stories about the spread of COVID, the more people are less likely to wear a mask in public, or areas that are not required to do so."
   ]
  },
  {
   "cell_type": "markdown",
   "metadata": {},
   "source": [
    "# Data"
   ]
  },
  {
   "cell_type": "markdown",
   "metadata": {},
   "source": [
    "*Explain what the ideal dataset you would want to answer this question. (This should include: What variables? How many observations? Who/what/how would these data be collected? How would these data be stored/organized?)*\n",
    "\n",
    "- 1) Media consumption based on certain demographic categories or voting preferences\n",
    "- 2) Top online media outlets plus their COVID coveredge? \n",
    "- 3) Sentiment analysis of comments at the end of those stories?\n",
    "- 4) QAnon Conspiracies? & other conspiracy theories? (ex. Anti-mask, anti-vax, etc.)\n",
    "\n"
   ]
  },
  {
   "cell_type": "markdown",
   "metadata": {},
   "source": [
    "# Ethics & Privacy"
   ]
  },
  {
   "cell_type": "markdown",
   "metadata": {},
   "source": [
    "*Fill in your ethics & privacy discussion here*\n",
    "\n",
    "There is an ethical violation and issue with misinformation being disseminated among the populace that we will touch on. For the data, we will make sure to be as ethically proper as we can and will respect the privacy of the participants."
   ]
  },
  {
   "cell_type": "markdown",
   "metadata": {},
   "source": [
    "# Team Expectations "
   ]
  },
  {
   "cell_type": "markdown",
   "metadata": {},
   "source": [
    "* We expect all members to communicate accordingly on Slack.\n",
    "* We expect all members to conduct research on the data selected \n",
    "* We expect all members to complete their tasks related to the project[Coding]\n",
    "* We expect all members to meet collectively through Zoom for our meetings."
   ]
  },
  {
   "cell_type": "markdown",
   "metadata": {},
   "source": [
    "# Project Timeline Proposal"
   ]
  },
  {
   "cell_type": "markdown",
   "metadata": {},
   "source": [
    "| Meeting Date  | Meeting Time| Completed Before Meeting  | Discuss at Meeting |\n",
    "|---|---|---|---|\n",
    "| 10/22  |  3:30 PM | Read & Think about COGS 108 expectations; brainstorm topics/questions  | Determine best form of communication; Discuss and decide on final project topic; discuss hypothesis; begin background research | \n",
    "| 10/27  |  3-4 PM |  Do background research on topic | Discuss ideal dataset(s) and ethics; draft project proposal | \n",
    "|  11/8 |  3-4PM  | Edit, finalize, and submit proposal; Search for datasets  | Discuss Wrangling and possible analytical approaches; Assign group members to lead each specific part   |\n",
    "| 11/ 12 | 3-4PM  | Import & Wrangle Data (Brian); EDA (Tejen) | Review/Edit wrangling/EDA(Gerardo); Discuss Analysis Plan   |\n",
    "| 11/19  | 3-4PM  | Finalize wrangling/EDA; Begin Analysis  | Discuss/edit Analysis; Complete project check-in |\n",
    "| 11/ 26 | 3-4PM  | Complete analysis; Draft results/conclusion/discussion (Wasp)| Discuss/edit full project |\n",
    "| 12/3  | Before 11:59 PM  | NA | Turn in Final Project & Group Project Surveys |"
   ]
  }
 ],
 "metadata": {
  "kernelspec": {
   "display_name": "Python 3",
   "language": "python",
   "name": "python3"
  },
  "language_info": {
   "codemirror_mode": {
    "name": "ipython",
    "version": 3
   },
   "file_extension": ".py",
   "mimetype": "text/x-python",
   "name": "python",
   "nbconvert_exporter": "python",
   "pygments_lexer": "ipython3",
   "version": "3.8.3"
  }
 },
 "nbformat": 4,
 "nbformat_minor": 2
}
