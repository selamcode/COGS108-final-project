{
 "cells": [
  {
   "cell_type": "markdown",
   "metadata": {},
   "source": [
    "### Try out your code here"
   ]
  },
  {
   "cell_type": "code",
   "execution_count": 10,
   "metadata": {},
   "outputs": [],
   "source": [
    "# Imports \n",
    "%matplotlib inline\n",
    "\n",
    "import numpy as np\n",
    "import pandas as pd\n",
    "import matplotlib.pyplot as plt\n",
    "\n",
    "import seaborn as sns\n",
    "sns.set()\n",
    "sns.set_context('talk')\n",
    "\n",
    "import warnings\n",
    "warnings.filterwarnings('ignore')\n",
    "\n",
    "import patsy\n",
    "import statsmodels.api as sm\n",
    "import scipy.stats as stats\n",
    "from scipy.stats import ttest_ind, chisquare, normaltest\n",
    "\n",
    "# Note: the statsmodels import may print out a 'FutureWarning'. Thats fine."
   ]
  },
  {
   "cell_type": "markdown",
   "metadata": {},
   "source": [
    "#### death in each state vs political view"
   ]
  },
  {
   "cell_type": "code",
   "execution_count": 87,
   "metadata": {},
   "outputs": [
    {
     "data": {
      "text/html": [
       "<div>\n",
       "<style scoped>\n",
       "    .dataframe tbody tr th:only-of-type {\n",
       "        vertical-align: middle;\n",
       "    }\n",
       "\n",
       "    .dataframe tbody tr th {\n",
       "        vertical-align: top;\n",
       "    }\n",
       "\n",
       "    .dataframe thead th {\n",
       "        text-align: right;\n",
       "    }\n",
       "</style>\n",
       "<table border=\"1\" class=\"dataframe\">\n",
       "  <thead>\n",
       "    <tr style=\"text-align: right;\">\n",
       "      <th></th>\n",
       "      <th>sex</th>\n",
       "      <th>age</th>\n",
       "      <th>educ</th>\n",
       "      <th>polit</th>\n",
       "      <th>wear_mask</th>\n",
       "      <th>social_distance</th>\n",
       "      <th>age_encoded</th>\n",
       "    </tr>\n",
       "  </thead>\n",
       "  <tbody>\n",
       "    <tr>\n",
       "      <th>0</th>\n",
       "      <td>Male</td>\n",
       "      <td>18-29 years old</td>\n",
       "      <td>HSDIPLOMA</td>\n",
       "      <td>REPUBLICAN</td>\n",
       "      <td>1.0</td>\n",
       "      <td>1.0</td>\n",
       "      <td>0</td>\n",
       "    </tr>\n",
       "    <tr>\n",
       "      <th>1</th>\n",
       "      <td>Female</td>\n",
       "      <td>40-49 years old</td>\n",
       "      <td>BACHELORS</td>\n",
       "      <td>OTHER</td>\n",
       "      <td>0.0</td>\n",
       "      <td>1.0</td>\n",
       "      <td>2</td>\n",
       "    </tr>\n",
       "    <tr>\n",
       "      <th>2</th>\n",
       "      <td>Female</td>\n",
       "      <td>30-39 years old</td>\n",
       "      <td>MASTERS</td>\n",
       "      <td>OTHER</td>\n",
       "      <td>0.0</td>\n",
       "      <td>1.0</td>\n",
       "      <td>1</td>\n",
       "    </tr>\n",
       "    <tr>\n",
       "      <th>3</th>\n",
       "      <td>Female</td>\n",
       "      <td>50-59 years old</td>\n",
       "      <td>BACHELORS</td>\n",
       "      <td>OTHER</td>\n",
       "      <td>0.0</td>\n",
       "      <td>1.0</td>\n",
       "      <td>3</td>\n",
       "    </tr>\n",
       "    <tr>\n",
       "      <th>4</th>\n",
       "      <td>Female</td>\n",
       "      <td>60-69 years old</td>\n",
       "      <td>BACHELORS</td>\n",
       "      <td>DEMOCRAT</td>\n",
       "      <td>0.0</td>\n",
       "      <td>0.0</td>\n",
       "      <td>4</td>\n",
       "    </tr>\n",
       "    <tr>\n",
       "      <th>...</th>\n",
       "      <td>...</td>\n",
       "      <td>...</td>\n",
       "      <td>...</td>\n",
       "      <td>...</td>\n",
       "      <td>...</td>\n",
       "      <td>...</td>\n",
       "      <td>...</td>\n",
       "    </tr>\n",
       "    <tr>\n",
       "      <th>6296</th>\n",
       "      <td>Male</td>\n",
       "      <td>40-49 years old</td>\n",
       "      <td>MASTERS</td>\n",
       "      <td>REPUBLICAN</td>\n",
       "      <td>0.0</td>\n",
       "      <td>1.0</td>\n",
       "      <td>2</td>\n",
       "    </tr>\n",
       "    <tr>\n",
       "      <th>6297</th>\n",
       "      <td>Male</td>\n",
       "      <td>30-39 years old</td>\n",
       "      <td>BACHELORS</td>\n",
       "      <td>OTHER</td>\n",
       "      <td>0.0</td>\n",
       "      <td>1.0</td>\n",
       "      <td>1</td>\n",
       "    </tr>\n",
       "    <tr>\n",
       "      <th>6306</th>\n",
       "      <td>Male</td>\n",
       "      <td>60-69 years old</td>\n",
       "      <td>HSDIPLOMA</td>\n",
       "      <td>DEMOCRAT</td>\n",
       "      <td>1.0</td>\n",
       "      <td>1.0</td>\n",
       "      <td>4</td>\n",
       "    </tr>\n",
       "    <tr>\n",
       "      <th>6307</th>\n",
       "      <td>Male</td>\n",
       "      <td>40-49 years old</td>\n",
       "      <td>HSDIPLOMA</td>\n",
       "      <td>OTHER</td>\n",
       "      <td>0.0</td>\n",
       "      <td>0.0</td>\n",
       "      <td>2</td>\n",
       "    </tr>\n",
       "    <tr>\n",
       "      <th>6310</th>\n",
       "      <td>Male</td>\n",
       "      <td>40-49 years old</td>\n",
       "      <td>COLLEGE</td>\n",
       "      <td>OTHER</td>\n",
       "      <td>0.0</td>\n",
       "      <td>1.0</td>\n",
       "      <td>2</td>\n",
       "    </tr>\n",
       "  </tbody>\n",
       "</table>\n",
       "<p>4998 rows × 7 columns</p>\n",
       "</div>"
      ],
      "text/plain": [
       "         sex              age       educ       polit  wear_mask  \\\n",
       "0       Male  18-29 years old  HSDIPLOMA  REPUBLICAN        1.0   \n",
       "1     Female  40-49 years old  BACHELORS       OTHER        0.0   \n",
       "2     Female  30-39 years old    MASTERS       OTHER        0.0   \n",
       "3     Female  50-59 years old  BACHELORS       OTHER        0.0   \n",
       "4     Female  60-69 years old  BACHELORS    DEMOCRAT        0.0   \n",
       "...      ...              ...        ...         ...        ...   \n",
       "6296    Male  40-49 years old    MASTERS  REPUBLICAN        0.0   \n",
       "6297    Male  30-39 years old  BACHELORS       OTHER        0.0   \n",
       "6306    Male  60-69 years old  HSDIPLOMA    DEMOCRAT        1.0   \n",
       "6307    Male  40-49 years old  HSDIPLOMA       OTHER        0.0   \n",
       "6310    Male  40-49 years old    COLLEGE       OTHER        0.0   \n",
       "\n",
       "      social_distance  age_encoded  \n",
       "0                 1.0            0  \n",
       "1                 1.0            2  \n",
       "2                 1.0            1  \n",
       "3                 1.0            3  \n",
       "4                 0.0            4  \n",
       "...               ...          ...  \n",
       "6296              1.0            2  \n",
       "6297              1.0            1  \n",
       "6306              1.0            4  \n",
       "6307              0.0            2  \n",
       "6310              1.0            2  \n",
       "\n",
       "[4998 rows x 7 columns]"
      ]
     },
     "execution_count": 87,
     "metadata": {},
     "output_type": "execute_result"
    }
   ],
   "source": [
    "df3"
   ]
  },
  {
   "cell_type": "code",
   "execution_count": 88,
   "metadata": {},
   "outputs": [
    {
     "data": {
      "text/html": [
       "<div>\n",
       "<style scoped>\n",
       "    .dataframe tbody tr th:only-of-type {\n",
       "        vertical-align: middle;\n",
       "    }\n",
       "\n",
       "    .dataframe tbody tr th {\n",
       "        vertical-align: top;\n",
       "    }\n",
       "\n",
       "    .dataframe thead th {\n",
       "        text-align: right;\n",
       "    }\n",
       "</style>\n",
       "<table border=\"1\" class=\"dataframe\">\n",
       "  <thead>\n",
       "    <tr style=\"text-align: right;\">\n",
       "      <th></th>\n",
       "      <th>polit</th>\n",
       "      <th>wear_mask</th>\n",
       "      <th>social_distance</th>\n",
       "      <th>state</th>\n",
       "    </tr>\n",
       "  </thead>\n",
       "  <tbody>\n",
       "    <tr>\n",
       "      <th>0</th>\n",
       "      <td>REPUBLICAN</td>\n",
       "      <td>1.0</td>\n",
       "      <td>1.0</td>\n",
       "      <td>Illinois</td>\n",
       "    </tr>\n",
       "    <tr>\n",
       "      <th>1</th>\n",
       "      <td>OTHER</td>\n",
       "      <td>0.0</td>\n",
       "      <td>1.0</td>\n",
       "      <td>Ohio</td>\n",
       "    </tr>\n",
       "    <tr>\n",
       "      <th>2</th>\n",
       "      <td>OTHER</td>\n",
       "      <td>0.0</td>\n",
       "      <td>1.0</td>\n",
       "      <td>Minnesota</td>\n",
       "    </tr>\n",
       "    <tr>\n",
       "      <th>3</th>\n",
       "      <td>OTHER</td>\n",
       "      <td>0.0</td>\n",
       "      <td>1.0</td>\n",
       "      <td>Mississippi</td>\n",
       "    </tr>\n",
       "    <tr>\n",
       "      <th>4</th>\n",
       "      <td>DEMOCRAT</td>\n",
       "      <td>0.0</td>\n",
       "      <td>0.0</td>\n",
       "      <td>Connecticut</td>\n",
       "    </tr>\n",
       "    <tr>\n",
       "      <th>...</th>\n",
       "      <td>...</td>\n",
       "      <td>...</td>\n",
       "      <td>...</td>\n",
       "      <td>...</td>\n",
       "    </tr>\n",
       "    <tr>\n",
       "      <th>6296</th>\n",
       "      <td>REPUBLICAN</td>\n",
       "      <td>0.0</td>\n",
       "      <td>1.0</td>\n",
       "      <td>New Jersey</td>\n",
       "    </tr>\n",
       "    <tr>\n",
       "      <th>6297</th>\n",
       "      <td>OTHER</td>\n",
       "      <td>0.0</td>\n",
       "      <td>1.0</td>\n",
       "      <td>Ohio</td>\n",
       "    </tr>\n",
       "    <tr>\n",
       "      <th>6306</th>\n",
       "      <td>DEMOCRAT</td>\n",
       "      <td>1.0</td>\n",
       "      <td>1.0</td>\n",
       "      <td>Arkansas</td>\n",
       "    </tr>\n",
       "    <tr>\n",
       "      <th>6307</th>\n",
       "      <td>OTHER</td>\n",
       "      <td>0.0</td>\n",
       "      <td>0.0</td>\n",
       "      <td>Louisiana</td>\n",
       "    </tr>\n",
       "    <tr>\n",
       "      <th>6310</th>\n",
       "      <td>OTHER</td>\n",
       "      <td>0.0</td>\n",
       "      <td>1.0</td>\n",
       "      <td>Massachusetts</td>\n",
       "    </tr>\n",
       "  </tbody>\n",
       "</table>\n",
       "<p>4998 rows × 4 columns</p>\n",
       "</div>"
      ],
      "text/plain": [
       "           polit  wear_mask  social_distance          state\n",
       "0     REPUBLICAN        1.0              1.0       Illinois\n",
       "1          OTHER        0.0              1.0           Ohio\n",
       "2          OTHER        0.0              1.0      Minnesota\n",
       "3          OTHER        0.0              1.0    Mississippi\n",
       "4       DEMOCRAT        0.0              0.0    Connecticut\n",
       "...          ...        ...              ...            ...\n",
       "6296  REPUBLICAN        0.0              1.0     New Jersey\n",
       "6297       OTHER        0.0              1.0           Ohio\n",
       "6306    DEMOCRAT        1.0              1.0       Arkansas\n",
       "6307       OTHER        0.0              0.0      Louisiana\n",
       "6310       OTHER        0.0              1.0  Massachusetts\n",
       "\n",
       "[4998 rows x 4 columns]"
      ]
     },
     "execution_count": 88,
     "metadata": {},
     "output_type": "execute_result"
    }
   ],
   "source": [
    "dfPolit = df3[['polit','wear_mask','social_distance']]\n",
    "dfPolit['state'] = df2[['state']]\n",
    "dfPolit"
   ]
  },
  {
   "cell_type": "code",
   "execution_count": 89,
   "metadata": {},
   "outputs": [],
   "source": [
    "repState = dfPolit[dfPolit['polit'] == 'REPUBLICAN']['state'].value_counts() # people who are republican and their states\n",
    "demoState = dfPolit[dfPolit['polit'] == 'DEMOCRAT']['state'].value_counts() # people who are democrats and their states"
   ]
  },
  {
   "cell_type": "code",
   "execution_count": 90,
   "metadata": {},
   "outputs": [
    {
     "name": "stdout",
     "output_type": "stream",
     "text": [
      "Total Number of Polit:\n",
      "  OTHER         2032\n",
      "DEMOCRAT      1684\n",
      "REPUBLICAN    1282\n",
      "Name: polit, dtype: int64\n"
     ]
    }
   ],
   "source": [
    "print(\"Total Number of Polit:\\n \", df2['polit'].value_counts()) "
   ]
  },
  {
   "cell_type": "markdown",
   "metadata": {},
   "source": [
    "### Number Of republicans per each state: How can we use this data?"
   ]
  },
  {
   "cell_type": "code",
   "execution_count": 91,
   "metadata": {},
   "outputs": [
    {
     "data": {
      "text/plain": [
       "New York        94\n",
       "Pennsylvania    84\n",
       "Texas           78\n",
       "Ohio            66\n",
       "Michigan        63\n",
       "Florida         54\n",
       "Illinois        49\n",
       "Georgia         46\n",
       "California      43\n",
       "Name: state, dtype: int64"
      ]
     },
     "execution_count": 91,
     "metadata": {},
     "output_type": "execute_result"
    }
   ],
   "source": [
    "\n",
    "repState.head(9)"
   ]
  },
  {
   "cell_type": "markdown",
   "metadata": {},
   "source": [
    "### Number Of Democrats per each state"
   ]
  },
  {
   "cell_type": "code",
   "execution_count": 92,
   "metadata": {},
   "outputs": [
    {
     "name": "stdout",
     "output_type": "stream",
     "text": [
      "Total Number of Polit:\n",
      "  OTHER         2032\n",
      "DEMOCRAT      1684\n",
      "REPUBLICAN    1282\n",
      "Name: polit, dtype: int64\n"
     ]
    },
    {
     "data": {
      "text/plain": [
       "New York        136\n",
       "Pennsylvania    114\n",
       "Michigan         99\n",
       "California       91\n",
       "Ohio             79\n",
       "Illinois         74\n",
       "Florida          72\n",
       "New Jersey       64\n",
       "Minnesota        52\n",
       "Name: state, dtype: int64"
      ]
     },
     "execution_count": 92,
     "metadata": {},
     "output_type": "execute_result"
    }
   ],
   "source": [
    "print(\"Total Number of Polit:\\n \", df2['polit'].value_counts()) #DEMOCRAT\n",
    "demoState.head(9)"
   ]
  },
  {
   "cell_type": "markdown",
   "metadata": {},
   "source": [
    "### which state wear mask more? compare that to the number of cases in that state, use the top 5 states\n",
    "### which state apply social distancing the most? compare that to the number of cases in that state\n",
    " "
   ]
  },
  {
   "cell_type": "markdown",
   "metadata": {},
   "source": [
    "# polit vs mask wearing vs state and republicans"
   ]
  },
  {
   "cell_type": "code",
   "execution_count": 93,
   "metadata": {},
   "outputs": [
    {
     "data": {
      "text/html": [
       "<div>\n",
       "<style scoped>\n",
       "    .dataframe tbody tr th:only-of-type {\n",
       "        vertical-align: middle;\n",
       "    }\n",
       "\n",
       "    .dataframe tbody tr th {\n",
       "        vertical-align: top;\n",
       "    }\n",
       "\n",
       "    .dataframe thead th {\n",
       "        text-align: right;\n",
       "    }\n",
       "</style>\n",
       "<table border=\"1\" class=\"dataframe\">\n",
       "  <thead>\n",
       "    <tr style=\"text-align: right;\">\n",
       "      <th></th>\n",
       "      <th>polit</th>\n",
       "      <th>wear_mask</th>\n",
       "      <th>state</th>\n",
       "    </tr>\n",
       "  </thead>\n",
       "  <tbody>\n",
       "    <tr>\n",
       "      <th>10</th>\n",
       "      <td>REPUBLICAN</td>\n",
       "      <td>0.0</td>\n",
       "      <td>New Hampshire</td>\n",
       "    </tr>\n",
       "    <tr>\n",
       "      <th>11</th>\n",
       "      <td>REPUBLICAN</td>\n",
       "      <td>0.0</td>\n",
       "      <td>Ohio</td>\n",
       "    </tr>\n",
       "    <tr>\n",
       "      <th>12</th>\n",
       "      <td>REPUBLICAN</td>\n",
       "      <td>0.0</td>\n",
       "      <td>Tennessee</td>\n",
       "    </tr>\n",
       "    <tr>\n",
       "      <th>13</th>\n",
       "      <td>REPUBLICAN</td>\n",
       "      <td>0.0</td>\n",
       "      <td>Texas</td>\n",
       "    </tr>\n",
       "    <tr>\n",
       "      <th>14</th>\n",
       "      <td>REPUBLICAN</td>\n",
       "      <td>0.0</td>\n",
       "      <td>South Carolina</td>\n",
       "    </tr>\n",
       "    <tr>\n",
       "      <th>16</th>\n",
       "      <td>REPUBLICAN</td>\n",
       "      <td>0.0</td>\n",
       "      <td>Pennsylvania</td>\n",
       "    </tr>\n",
       "    <tr>\n",
       "      <th>20</th>\n",
       "      <td>REPUBLICAN</td>\n",
       "      <td>0.0</td>\n",
       "      <td>Ohio</td>\n",
       "    </tr>\n",
       "    <tr>\n",
       "      <th>22</th>\n",
       "      <td>REPUBLICAN</td>\n",
       "      <td>0.0</td>\n",
       "      <td>Missouri</td>\n",
       "    </tr>\n",
       "    <tr>\n",
       "      <th>23</th>\n",
       "      <td>REPUBLICAN</td>\n",
       "      <td>0.0</td>\n",
       "      <td>California</td>\n",
       "    </tr>\n",
       "    <tr>\n",
       "      <th>24</th>\n",
       "      <td>REPUBLICAN</td>\n",
       "      <td>0.0</td>\n",
       "      <td>New York</td>\n",
       "    </tr>\n",
       "  </tbody>\n",
       "</table>\n",
       "</div>"
      ],
      "text/plain": [
       "         polit  wear_mask           state\n",
       "10  REPUBLICAN        0.0   New Hampshire\n",
       "11  REPUBLICAN        0.0            Ohio\n",
       "12  REPUBLICAN        0.0       Tennessee\n",
       "13  REPUBLICAN        0.0           Texas\n",
       "14  REPUBLICAN        0.0  South Carolina\n",
       "16  REPUBLICAN        0.0    Pennsylvania\n",
       "20  REPUBLICAN        0.0            Ohio\n",
       "22  REPUBLICAN        0.0        Missouri\n",
       "23  REPUBLICAN        0.0      California\n",
       "24  REPUBLICAN        0.0        New York"
      ]
     },
     "execution_count": 93,
     "metadata": {},
     "output_type": "execute_result"
    }
   ],
   "source": [
    "#dfPolit = dfPolit.drop([\"social_distance\"], axis = 1)\n",
    "# mask = dfPolit1.groupby(['polit', 'wear_mask', 'state']).count().unstack(level=1).max()\n",
    "# mask = mask.dropna() # drop nan values\n",
    "# mask\n",
    "#dfPolit\n",
    "# count the. number people who are repblican in some state and wear mask\n",
    "# count the. number people who are repblican in some state and  doesn't wear mask\n",
    "# count the. number people who are democrats in some state and wear mask\n",
    "# count the. number people who are democrats in some state and  doesn't wear mask\n",
    "# count the. number people who are democrats in some state and wear mask\n",
    "# count the. number people who are democrats in some state and  doesn't wear mask\n",
    "\n",
    "\n",
    "\n",
    "dfPolitMw = dfPolit.drop([\"social_distance\"], axis = 1) # drop social_distance column\n",
    "dfPolitMw = dfPolitMw.loc[(dfPolit['polit'] == 'REPUBLICAN') &(dfPolit['wear_mask'] == 0) ] # poloit, wear_mask, state \n",
    "\n",
    "dfPolitMw.head(10)\n"
   ]
  },
  {
   "cell_type": "markdown",
   "metadata": {},
   "source": [
    "### people who are republican and their state"
   ]
  },
  {
   "cell_type": "code",
   "execution_count": 94,
   "metadata": {},
   "outputs": [
    {
     "data": {
      "text/plain": [
       "state\n",
       "Alaska          1\n",
       "Hawaii          1\n",
       "New Mexico      2\n",
       "Delaware        3\n",
       "Rhode Island    4\n",
       "Name: polit, dtype: int64"
      ]
     },
     "execution_count": 94,
     "metadata": {},
     "output_type": "execute_result"
    }
   ],
   "source": [
    "dfPolitMw = dfPolitMw.groupby('state')[\"polit\"].count() # gets the number of people who are wearing mask in each state\n",
    "dfPolitMw = dfPolitMw.sort_values(ascending=True) # sort it in asending \n",
    "\n",
    "dfPolitMw.head()"
   ]
  },
  {
   "cell_type": "markdown",
   "metadata": {},
   "source": [
    "### visualize who the number of republicans not wearing mask in each state"
   ]
  },
  {
   "cell_type": "code",
   "execution_count": 95,
   "metadata": {},
   "outputs": [
    {
     "data": {
      "text/plain": [
       "Text(0, 0.5, 'Count')"
      ]
     },
     "execution_count": 95,
     "metadata": {},
     "output_type": "execute_result"
    },
    {
     "data": {
      "image/png": "[encoded data removed]",
      "text/plain": [
       "<Figure size 1080x1080 with 1 Axes>"
      ]
     },
     "metadata": {},
     "output_type": "display_data"
    }
   ],
   "source": [
    "dfPolitMw.plot.bar(title = \"number republicans who are wearing a mask in each state\", figsize=(15,15), \n",
    "                              color = 'plum', position = 1.0)\n",
    "\n",
    "plt.xlabel('State')\n",
    "plt.ylabel('Count')"
   ]
  },
  {
   "cell_type": "markdown",
   "metadata": {},
   "source": [
    "# problem:\n",
    "- pennsylvania is not in the second data: therefore it would be a problem for data consistency "
   ]
  },
  {
   "cell_type": "markdown",
   "metadata": {},
   "source": [
    "### the second state that is not wear_mask is New york, let's visualize the number of case, death, and the death rate:"
   ]
  },
  {
   "cell_type": "code",
   "execution_count": 96,
   "metadata": {},
   "outputs": [
    {
     "ename": "NameError",
     "evalue": "name 'dfTwoImp' is not defined",
     "output_type": "error",
     "traceback": [
      "\u001b[0;31m---------------------------------------------------------------------------\u001b[0m",
      "\u001b[0;31mNameError\u001b[0m                                 Traceback (most recent call last)",
      "\u001b[0;32m<ipython-input-96-9801e4259390>\u001b[0m in \u001b[0;36m<module>\u001b[0;34m\u001b[0m\n\u001b[0;32m----> 1\u001b[0;31m \u001b[0mdfTwo_newYork\u001b[0m \u001b[0;34m=\u001b[0m \u001b[0mdfTwoImp\u001b[0m\u001b[0;34m.\u001b[0m\u001b[0mloc\u001b[0m\u001b[0;34m[\u001b[0m\u001b[0mdfTwoImp\u001b[0m\u001b[0;34m[\u001b[0m\u001b[0;34m'State and Territory'\u001b[0m\u001b[0;34m]\u001b[0m \u001b[0;34m==\u001b[0m \u001b[0;34m'New York City'\u001b[0m\u001b[0;34m]\u001b[0m\u001b[0;34m\u001b[0m\u001b[0;34m\u001b[0m\u001b[0m\n\u001b[0m\u001b[1;32m      2\u001b[0m \u001b[0mdfTwo_newYork\u001b[0m\u001b[0;34m\u001b[0m\u001b[0;34m\u001b[0m\u001b[0m\n",
      "\u001b[0;31mNameError\u001b[0m: name 'dfTwoImp' is not defined"
     ]
    }
   ],
   "source": [
    "dfTwo_newYork = dfTwoImp.loc[dfTwoImp['State and Territory'] == 'New York City']\n",
    "dfTwo_newYork"
   ]
  },
  {
   "cell_type": "code",
   "execution_count": null,
   "metadata": {},
   "outputs": [],
   "source": [
    "\n",
    "dfTwo_newYork.plot.bar(y = ['Total Cases','Confirmed Cases',\n",
    "                                    \n",
    "                                    'Case Rate per 100000',\n",
    "                                    'Confirmed Deaths','Death Rate per 100000']\n",
    "                              ,title =\n",
    "                       \"Total Cases,Confirmed Cases,Case Rate per 100000 Total Deaths, Confirmed Deaths Death Rate per 100000\\n in New York City\\n\"\n",
    "                       , figsize=(8,8), \n",
    "                              color = ['r',\"b\",\"c\",\"y\",\"g\"], position = 1.0,  rot=0)\n",
    "\n",
    "\n",
    "plt.xlabel('New York City')\n",
    "plt.ylabel('Death')\n",
    "plt.ylim(0, 350000)\n"
   ]
  },
  {
   "cell_type": "markdown",
   "metadata": {},
   "source": [
    "- This only shows that their is a direct relationship between not wearing mask and [total case, death]"
   ]
  },
  {
   "cell_type": "markdown",
   "metadata": {},
   "source": [
    "# Linear Regression: For Data 1"
   ]
  },
  {
   "cell_type": "markdown",
   "metadata": {},
   "source": [
    "The relationship between **mask wearing, Social distancing** and **Sex** using linear regression:"
   ]
  },
  {
   "cell_type": "markdown",
   "metadata": {},
   "source": [
    "First Check assumptions:\n",
    "    \n",
    "    - Linear relationship\n",
    "    - Multivariate normality\n",
    "    - No multicollinearity\n",
    "    - No auto-correlation\n",
    "    - Homoscedasticity\n",
    "- Ho (null hypothesis) = There is no relationship no between gender and mask wearing rate\n",
    "- H1 = There is a relationship between poverty percentage and teen birth rate "
   ]
  },
  {
   "cell_type": "markdown",
   "metadata": {},
   "source": [
    "# First lets see the relationship between male and mask wearing "
   ]
  },
  {
   "cell_type": "code",
   "execution_count": 97,
   "metadata": {},
   "outputs": [],
   "source": [
    "#df3"
   ]
  },
  {
   "cell_type": "code",
   "execution_count": 98,
   "metadata": {},
   "outputs": [
    {
     "data": {
      "text/html": [
       "<div>\n",
       "<style scoped>\n",
       "    .dataframe tbody tr th:only-of-type {\n",
       "        vertical-align: middle;\n",
       "    }\n",
       "\n",
       "    .dataframe tbody tr th {\n",
       "        vertical-align: top;\n",
       "    }\n",
       "\n",
       "    .dataframe thead th {\n",
       "        text-align: right;\n",
       "    }\n",
       "</style>\n",
       "<table border=\"1\" class=\"dataframe\">\n",
       "  <thead>\n",
       "    <tr style=\"text-align: right;\">\n",
       "      <th></th>\n",
       "      <th>sex</th>\n",
       "      <th>age</th>\n",
       "      <th>educ</th>\n",
       "      <th>polit</th>\n",
       "      <th>wear_mask</th>\n",
       "      <th>social_distance</th>\n",
       "      <th>age_encoded</th>\n",
       "    </tr>\n",
       "  </thead>\n",
       "  <tbody>\n",
       "    <tr>\n",
       "      <th>0</th>\n",
       "      <td>Male</td>\n",
       "      <td>18-29 years old</td>\n",
       "      <td>HSDIPLOMA</td>\n",
       "      <td>REPUBLICAN</td>\n",
       "      <td>1.0</td>\n",
       "      <td>1.0</td>\n",
       "      <td>0</td>\n",
       "    </tr>\n",
       "    <tr>\n",
       "      <th>10</th>\n",
       "      <td>Male</td>\n",
       "      <td>60-69 years old</td>\n",
       "      <td>HSDIPLOMA</td>\n",
       "      <td>REPUBLICAN</td>\n",
       "      <td>0.0</td>\n",
       "      <td>1.0</td>\n",
       "      <td>4</td>\n",
       "    </tr>\n",
       "    <tr>\n",
       "      <th>14</th>\n",
       "      <td>Male</td>\n",
       "      <td>50-59 years old</td>\n",
       "      <td>HSDIPLOMA</td>\n",
       "      <td>REPUBLICAN</td>\n",
       "      <td>0.0</td>\n",
       "      <td>1.0</td>\n",
       "      <td>3</td>\n",
       "    </tr>\n",
       "    <tr>\n",
       "      <th>16</th>\n",
       "      <td>Male</td>\n",
       "      <td>30-39 years old</td>\n",
       "      <td>HSDIPLOMA</td>\n",
       "      <td>REPUBLICAN</td>\n",
       "      <td>0.0</td>\n",
       "      <td>1.0</td>\n",
       "      <td>1</td>\n",
       "    </tr>\n",
       "    <tr>\n",
       "      <th>19</th>\n",
       "      <td>Male</td>\n",
       "      <td>30-39 years old</td>\n",
       "      <td>BACHELORS</td>\n",
       "      <td>DEMOCRAT</td>\n",
       "      <td>0.0</td>\n",
       "      <td>1.0</td>\n",
       "      <td>1</td>\n",
       "    </tr>\n",
       "    <tr>\n",
       "      <th>...</th>\n",
       "      <td>...</td>\n",
       "      <td>...</td>\n",
       "      <td>...</td>\n",
       "      <td>...</td>\n",
       "      <td>...</td>\n",
       "      <td>...</td>\n",
       "      <td>...</td>\n",
       "    </tr>\n",
       "    <tr>\n",
       "      <th>6296</th>\n",
       "      <td>Male</td>\n",
       "      <td>40-49 years old</td>\n",
       "      <td>MASTERS</td>\n",
       "      <td>REPUBLICAN</td>\n",
       "      <td>0.0</td>\n",
       "      <td>1.0</td>\n",
       "      <td>2</td>\n",
       "    </tr>\n",
       "    <tr>\n",
       "      <th>6297</th>\n",
       "      <td>Male</td>\n",
       "      <td>30-39 years old</td>\n",
       "      <td>BACHELORS</td>\n",
       "      <td>OTHER</td>\n",
       "      <td>0.0</td>\n",
       "      <td>1.0</td>\n",
       "      <td>1</td>\n",
       "    </tr>\n",
       "    <tr>\n",
       "      <th>6306</th>\n",
       "      <td>Male</td>\n",
       "      <td>60-69 years old</td>\n",
       "      <td>HSDIPLOMA</td>\n",
       "      <td>DEMOCRAT</td>\n",
       "      <td>1.0</td>\n",
       "      <td>1.0</td>\n",
       "      <td>4</td>\n",
       "    </tr>\n",
       "    <tr>\n",
       "      <th>6307</th>\n",
       "      <td>Male</td>\n",
       "      <td>40-49 years old</td>\n",
       "      <td>HSDIPLOMA</td>\n",
       "      <td>OTHER</td>\n",
       "      <td>0.0</td>\n",
       "      <td>0.0</td>\n",
       "      <td>2</td>\n",
       "    </tr>\n",
       "    <tr>\n",
       "      <th>6310</th>\n",
       "      <td>Male</td>\n",
       "      <td>40-49 years old</td>\n",
       "      <td>COLLEGE</td>\n",
       "      <td>OTHER</td>\n",
       "      <td>0.0</td>\n",
       "      <td>1.0</td>\n",
       "      <td>2</td>\n",
       "    </tr>\n",
       "  </tbody>\n",
       "</table>\n",
       "<p>2014 rows × 7 columns</p>\n",
       "</div>"
      ],
      "text/plain": [
       "       sex              age       educ       polit  wear_mask  \\\n",
       "0     Male  18-29 years old  HSDIPLOMA  REPUBLICAN        1.0   \n",
       "10    Male  60-69 years old  HSDIPLOMA  REPUBLICAN        0.0   \n",
       "14    Male  50-59 years old  HSDIPLOMA  REPUBLICAN        0.0   \n",
       "16    Male  30-39 years old  HSDIPLOMA  REPUBLICAN        0.0   \n",
       "19    Male  30-39 years old  BACHELORS    DEMOCRAT        0.0   \n",
       "...    ...              ...        ...         ...        ...   \n",
       "6296  Male  40-49 years old    MASTERS  REPUBLICAN        0.0   \n",
       "6297  Male  30-39 years old  BACHELORS       OTHER        0.0   \n",
       "6306  Male  60-69 years old  HSDIPLOMA    DEMOCRAT        1.0   \n",
       "6307  Male  40-49 years old  HSDIPLOMA       OTHER        0.0   \n",
       "6310  Male  40-49 years old    COLLEGE       OTHER        0.0   \n",
       "\n",
       "      social_distance  age_encoded  \n",
       "0                 1.0            0  \n",
       "10                1.0            4  \n",
       "14                1.0            3  \n",
       "16                1.0            1  \n",
       "19                1.0            1  \n",
       "...               ...          ...  \n",
       "6296              1.0            2  \n",
       "6297              1.0            1  \n",
       "6306              1.0            4  \n",
       "6307              0.0            2  \n",
       "6310              1.0            2  \n",
       "\n",
       "[2014 rows x 7 columns]"
      ]
     },
     "execution_count": 98,
     "metadata": {},
     "output_type": "execute_result"
    }
   ],
   "source": [
    "\n",
    "df3Male = df3.loc[(df3['sex'] == 'Male')]\n",
    "df3Male"
   ]
  },
  {
   "cell_type": "code",
   "execution_count": 99,
   "metadata": {},
   "outputs": [
    {
     "data": {
      "image/png": "[encoded data removed]",
      "text/plain": [
       "<Figure size 1440x1440 with 1 Axes>"
      ]
     },
     "metadata": {},
     "output_type": "display_data"
    }
   ],
   "source": [
    "plt.figure(figsize=(20,20))\n",
    "sns.scatterplot(x='age', y='wear_mask', data=df3, s=100)\n",
    "plt.xlabel('Mask Wearing')\n",
    "plt.ylabel('Male');"
   ]
  },
  {
   "cell_type": "markdown",
   "metadata": {},
   "source": [
    "### To do regression anlysis we need something that change over time:\n",
    "   thats why we use  **y=mx+b equation**\n",
    "        \n",
    "### We won't be able to do this for the first data:\n",
    "   **it fails Linear relationship**"
   ]
  },
  {
   "cell_type": "markdown",
   "metadata": {},
   "source": [
    "# Logistic Regression"
   ]
  },
  {
   "cell_type": "code",
   "execution_count": 100,
   "metadata": {},
   "outputs": [],
   "source": [
    "from sklearn.linear_model import LogisticRegression\n",
    "from sklearn.model_selection import train_test_split\n",
    "from sklearn.preprocessing import LabelEncoder\n",
    "from sklearn.metrics import classification_report, confusion_matrix"
   ]
  },
  {
   "cell_type": "code",
   "execution_count": 101,
   "metadata": {},
   "outputs": [
    {
     "data": {
      "text/html": [
       "<div>\n",
       "<style scoped>\n",
       "    .dataframe tbody tr th:only-of-type {\n",
       "        vertical-align: middle;\n",
       "    }\n",
       "\n",
       "    .dataframe tbody tr th {\n",
       "        vertical-align: top;\n",
       "    }\n",
       "\n",
       "    .dataframe thead th {\n",
       "        text-align: right;\n",
       "    }\n",
       "</style>\n",
       "<table border=\"1\" class=\"dataframe\">\n",
       "  <thead>\n",
       "    <tr style=\"text-align: right;\">\n",
       "      <th></th>\n",
       "      <th>sex</th>\n",
       "      <th>age</th>\n",
       "      <th>educ</th>\n",
       "      <th>polit</th>\n",
       "      <th>wear_mask</th>\n",
       "      <th>social_distance</th>\n",
       "      <th>age_encoded</th>\n",
       "    </tr>\n",
       "  </thead>\n",
       "  <tbody>\n",
       "    <tr>\n",
       "      <th>0</th>\n",
       "      <td>Male</td>\n",
       "      <td>18-29 years old</td>\n",
       "      <td>HSDIPLOMA</td>\n",
       "      <td>REPUBLICAN</td>\n",
       "      <td>1.0</td>\n",
       "      <td>1.0</td>\n",
       "      <td>0</td>\n",
       "    </tr>\n",
       "    <tr>\n",
       "      <th>1</th>\n",
       "      <td>Female</td>\n",
       "      <td>40-49 years old</td>\n",
       "      <td>BACHELORS</td>\n",
       "      <td>OTHER</td>\n",
       "      <td>0.0</td>\n",
       "      <td>1.0</td>\n",
       "      <td>2</td>\n",
       "    </tr>\n",
       "    <tr>\n",
       "      <th>2</th>\n",
       "      <td>Female</td>\n",
       "      <td>30-39 years old</td>\n",
       "      <td>MASTERS</td>\n",
       "      <td>OTHER</td>\n",
       "      <td>0.0</td>\n",
       "      <td>1.0</td>\n",
       "      <td>1</td>\n",
       "    </tr>\n",
       "    <tr>\n",
       "      <th>3</th>\n",
       "      <td>Female</td>\n",
       "      <td>50-59 years old</td>\n",
       "      <td>BACHELORS</td>\n",
       "      <td>OTHER</td>\n",
       "      <td>0.0</td>\n",
       "      <td>1.0</td>\n",
       "      <td>3</td>\n",
       "    </tr>\n",
       "    <tr>\n",
       "      <th>4</th>\n",
       "      <td>Female</td>\n",
       "      <td>60-69 years old</td>\n",
       "      <td>BACHELORS</td>\n",
       "      <td>DEMOCRAT</td>\n",
       "      <td>0.0</td>\n",
       "      <td>0.0</td>\n",
       "      <td>4</td>\n",
       "    </tr>\n",
       "    <tr>\n",
       "      <th>...</th>\n",
       "      <td>...</td>\n",
       "      <td>...</td>\n",
       "      <td>...</td>\n",
       "      <td>...</td>\n",
       "      <td>...</td>\n",
       "      <td>...</td>\n",
       "      <td>...</td>\n",
       "    </tr>\n",
       "    <tr>\n",
       "      <th>6296</th>\n",
       "      <td>Male</td>\n",
       "      <td>40-49 years old</td>\n",
       "      <td>MASTERS</td>\n",
       "      <td>REPUBLICAN</td>\n",
       "      <td>0.0</td>\n",
       "      <td>1.0</td>\n",
       "      <td>2</td>\n",
       "    </tr>\n",
       "    <tr>\n",
       "      <th>6297</th>\n",
       "      <td>Male</td>\n",
       "      <td>30-39 years old</td>\n",
       "      <td>BACHELORS</td>\n",
       "      <td>OTHER</td>\n",
       "      <td>0.0</td>\n",
       "      <td>1.0</td>\n",
       "      <td>1</td>\n",
       "    </tr>\n",
       "    <tr>\n",
       "      <th>6306</th>\n",
       "      <td>Male</td>\n",
       "      <td>60-69 years old</td>\n",
       "      <td>HSDIPLOMA</td>\n",
       "      <td>DEMOCRAT</td>\n",
       "      <td>1.0</td>\n",
       "      <td>1.0</td>\n",
       "      <td>4</td>\n",
       "    </tr>\n",
       "    <tr>\n",
       "      <th>6307</th>\n",
       "      <td>Male</td>\n",
       "      <td>40-49 years old</td>\n",
       "      <td>HSDIPLOMA</td>\n",
       "      <td>OTHER</td>\n",
       "      <td>0.0</td>\n",
       "      <td>0.0</td>\n",
       "      <td>2</td>\n",
       "    </tr>\n",
       "    <tr>\n",
       "      <th>6310</th>\n",
       "      <td>Male</td>\n",
       "      <td>40-49 years old</td>\n",
       "      <td>COLLEGE</td>\n",
       "      <td>OTHER</td>\n",
       "      <td>0.0</td>\n",
       "      <td>1.0</td>\n",
       "      <td>2</td>\n",
       "    </tr>\n",
       "  </tbody>\n",
       "</table>\n",
       "<p>4998 rows × 7 columns</p>\n",
       "</div>"
      ],
      "text/plain": [
       "         sex              age       educ       polit  wear_mask  \\\n",
       "0       Male  18-29 years old  HSDIPLOMA  REPUBLICAN        1.0   \n",
       "1     Female  40-49 years old  BACHELORS       OTHER        0.0   \n",
       "2     Female  30-39 years old    MASTERS       OTHER        0.0   \n",
       "3     Female  50-59 years old  BACHELORS       OTHER        0.0   \n",
       "4     Female  60-69 years old  BACHELORS    DEMOCRAT        0.0   \n",
       "...      ...              ...        ...         ...        ...   \n",
       "6296    Male  40-49 years old    MASTERS  REPUBLICAN        0.0   \n",
       "6297    Male  30-39 years old  BACHELORS       OTHER        0.0   \n",
       "6306    Male  60-69 years old  HSDIPLOMA    DEMOCRAT        1.0   \n",
       "6307    Male  40-49 years old  HSDIPLOMA       OTHER        0.0   \n",
       "6310    Male  40-49 years old    COLLEGE       OTHER        0.0   \n",
       "\n",
       "      social_distance  age_encoded  \n",
       "0                 1.0            0  \n",
       "1                 1.0            2  \n",
       "2                 1.0            1  \n",
       "3                 1.0            3  \n",
       "4                 0.0            4  \n",
       "...               ...          ...  \n",
       "6296              1.0            2  \n",
       "6297              1.0            1  \n",
       "6306              1.0            4  \n",
       "6307              0.0            2  \n",
       "6310              1.0            2  \n",
       "\n",
       "[4998 rows x 7 columns]"
      ]
     },
     "execution_count": 101,
     "metadata": {},
     "output_type": "execute_result"
    }
   ],
   "source": [
    "df3['age'].value_counts()\n",
    "\n",
    "df3['age_encoded'] = LabelEncoder().fit_transform(df3['age'])\n",
    "df3[['age', 'age_encoded']] # special syntax to get just these two columns\n",
    "df3"
   ]
  },
  {
   "cell_type": "code",
   "execution_count": 102,
   "metadata": {},
   "outputs": [
    {
     "data": {
      "text/plain": [
       "<matplotlib.collections.PathCollection at 0x7fb55688e7f0>"
      ]
     },
     "execution_count": 102,
     "metadata": {},
     "output_type": "execute_result"
    },
    {
     "data": {
      "image/png": "[encoded data removed]",
      "text/plain": [
       "<Figure size 1080x1080 with 1 Axes>"
      ]
     },
     "metadata": {},
     "output_type": "display_data"
    }
   ],
   "source": [
    "plt.figure(figsize=(15,15))\n",
    "plt.scatter(df3.wear_mask, df3.age, marker = '*', color = 'orange')"
   ]
  },
  {
   "cell_type": "markdown",
   "metadata": {},
   "source": [
    "Now Train and Test:"
   ]
  },
  {
   "cell_type": "code",
   "execution_count": 103,
   "metadata": {},
   "outputs": [],
   "source": [
    "# X_train, X_test, y_train, y_test = train_test_split( X, y, test_size=0.33, random_state=42)\n",
    "\n",
    "# X_train, X_test, y_train, y_test = train_test_split(df3[['age_encoded']], df3.wear_mask, test_size = 0.00)  # using 0.2 of the data for prediction result\n",
    "#x = df3[['age_encoded']]   \n",
    "#y = df3.wear_mask \n",
    "#y                                        \n",
    "                                                             "
   ]
  },
  {
   "cell_type": "code",
   "execution_count": 104,
   "metadata": {},
   "outputs": [],
   "source": [
    "\n",
    "# so df3 has a size of 4998 datas, we are choosing to predict the result of \n",
    "# 0.2% of 4998 if they wear mask or not\n",
    "#X_test # X_shape = 1000\n",
    "#X_test.shape\n",
    "\n",
    "#X_train,X_test,y_train,y_test = train_test_split(x,y,test_size=0.5,random_state=40) "
   ]
  },
  {
   "cell_type": "code",
   "execution_count": 105,
   "metadata": {},
   "outputs": [],
   "source": [
    "#model = LogisticRegression()"
   ]
  },
  {
   "cell_type": "code",
   "execution_count": 106,
   "metadata": {},
   "outputs": [],
   "source": [
    "#model.fit(X_train,y_train) # training \n",
    "#y_pred=model.predict(X_test)\n"
   ]
  },
  {
   "cell_type": "code",
   "execution_count": 107,
   "metadata": {},
   "outputs": [],
   "source": [
    "from sklearn.metrics import classification_report\n",
    "from sklearn import metrics\n",
    "#confusion_matrix = metrics.confusion_matrix(y_test, y_pred)\n",
    "#confusion_matrix = pd.crosstab(X_test, y_pred, rownames=['Actual'], colnames=['Predicted'])\n",
    "#sn.heatmap(confusion_matrix, annot=True)\n",
    "\n",
    "#print('Accuracy: ',metrics.accuracy_score(y_test, y_pred))\n",
    "#plt.show()\n",
    "#confusion_matrix\n",
    "#print(classification_report(y_test, y_pred))"
   ]
  },
  {
   "cell_type": "code",
   "execution_count": 108,
   "metadata": {},
   "outputs": [
    {
     "data": {
      "text/plain": [
       "0.84"
      ]
     },
     "execution_count": 108,
     "metadata": {},
     "output_type": "execute_result"
    }
   ],
   "source": [
    "model.score(X_test,y_test) "
   ]
  },
  {
   "cell_type": "code",
   "execution_count": 109,
   "metadata": {},
   "outputs": [
    {
     "data": {
      "text/html": [
       "<div>\n",
       "<style scoped>\n",
       "    .dataframe tbody tr th:only-of-type {\n",
       "        vertical-align: middle;\n",
       "    }\n",
       "\n",
       "    .dataframe tbody tr th {\n",
       "        vertical-align: top;\n",
       "    }\n",
       "\n",
       "    .dataframe thead th {\n",
       "        text-align: right;\n",
       "    }\n",
       "</style>\n",
       "<table border=\"1\" class=\"dataframe\">\n",
       "  <thead>\n",
       "    <tr style=\"text-align: right;\">\n",
       "      <th></th>\n",
       "      <th>wear_mask</th>\n",
       "      <th>social_distance</th>\n",
       "      <th>age_encoded</th>\n",
       "    </tr>\n",
       "  </thead>\n",
       "  <tbody>\n",
       "    <tr>\n",
       "      <th>0</th>\n",
       "      <td>1.0</td>\n",
       "      <td>1.0</td>\n",
       "      <td>0</td>\n",
       "    </tr>\n",
       "    <tr>\n",
       "      <th>2</th>\n",
       "      <td>0.0</td>\n",
       "      <td>1.0</td>\n",
       "      <td>1</td>\n",
       "    </tr>\n",
       "    <tr>\n",
       "      <th>1</th>\n",
       "      <td>0.0</td>\n",
       "      <td>1.0</td>\n",
       "      <td>2</td>\n",
       "    </tr>\n",
       "    <tr>\n",
       "      <th>3</th>\n",
       "      <td>0.0</td>\n",
       "      <td>1.0</td>\n",
       "      <td>3</td>\n",
       "    </tr>\n",
       "    <tr>\n",
       "      <th>4</th>\n",
       "      <td>0.0</td>\n",
       "      <td>0.0</td>\n",
       "      <td>4</td>\n",
       "    </tr>\n",
       "    <tr>\n",
       "      <th>...</th>\n",
       "      <td>...</td>\n",
       "      <td>...</td>\n",
       "      <td>...</td>\n",
       "    </tr>\n",
       "    <tr>\n",
       "      <th>2</th>\n",
       "      <td>0.0</td>\n",
       "      <td>1.0</td>\n",
       "      <td>1</td>\n",
       "    </tr>\n",
       "    <tr>\n",
       "      <th>1</th>\n",
       "      <td>0.0</td>\n",
       "      <td>1.0</td>\n",
       "      <td>2</td>\n",
       "    </tr>\n",
       "    <tr>\n",
       "      <th>4</th>\n",
       "      <td>0.0</td>\n",
       "      <td>0.0</td>\n",
       "      <td>4</td>\n",
       "    </tr>\n",
       "    <tr>\n",
       "      <th>2</th>\n",
       "      <td>0.0</td>\n",
       "      <td>1.0</td>\n",
       "      <td>1</td>\n",
       "    </tr>\n",
       "    <tr>\n",
       "      <th>2</th>\n",
       "      <td>0.0</td>\n",
       "      <td>1.0</td>\n",
       "      <td>1</td>\n",
       "    </tr>\n",
       "  </tbody>\n",
       "</table>\n",
       "<p>4998 rows × 3 columns</p>\n",
       "</div>"
      ],
      "text/plain": [
       "    wear_mask  social_distance  age_encoded\n",
       "0         1.0              1.0            0\n",
       "2         0.0              1.0            1\n",
       "1         0.0              1.0            2\n",
       "3         0.0              1.0            3\n",
       "4         0.0              0.0            4\n",
       "..        ...              ...          ...\n",
       "2         0.0              1.0            1\n",
       "1         0.0              1.0            2\n",
       "4         0.0              0.0            4\n",
       "2         0.0              1.0            1\n",
       "2         0.0              1.0            1\n",
       "\n",
       "[4998 rows x 3 columns]"
      ]
     },
     "execution_count": 109,
     "metadata": {},
     "output_type": "execute_result"
    }
   ],
   "source": [
    "df3Age = df3.loc[(df3['age_encoded'])]\n",
    "df3Age = df3Age.drop(['sex','age','educ','polit'], axis =1)\n",
    "df3Age\n"
   ]
  },
  {
   "cell_type": "code",
   "execution_count": 110,
   "metadata": {},
   "outputs": [],
   "source": [
    "x = df3Age[['age_encoded']]   \n",
    "y = df3Age.wear_mask "
   ]
  },
  {
   "cell_type": "code",
   "execution_count": 111,
   "metadata": {},
   "outputs": [
    {
     "name": "stdout",
     "output_type": "stream",
     "text": [
      "              precision    recall  f1-score   support\n",
      "\n",
      "         0.0       0.84      1.00      0.91       840\n",
      "         1.0       0.00      0.00      0.00       160\n",
      "\n",
      "    accuracy                           0.84      1000\n",
      "   macro avg       0.42      0.50      0.46      1000\n",
      "weighted avg       0.71      0.84      0.77      1000\n",
      "\n"
     ]
    }
   ],
   "source": [
    "X_train,X_test,y_train,y_test = train_test_split(x,y,test_size=0.2,random_state=0) \n",
    "model = LogisticRegression()\n",
    "model.fit(X_train,y_train) # training \n",
    "y_pred=model.predict(X_test)\n",
    "print(classification_report(y_test, y_pred))"
   ]
  },
  {
   "cell_type": "code",
   "execution_count": 112,
   "metadata": {},
   "outputs": [
    {
     "name": "stdout",
     "output_type": "stream",
     "text": [
      "[[840   0]\n",
      " [160   0]]\n"
     ]
    }
   ],
   "source": [
    "print(confusion_matrix(y_test, y_pred))"
   ]
  },
  {
   "cell_type": "code",
   "execution_count": 113,
   "metadata": {},
   "outputs": [
    {
     "data": {
      "text/plain": [
       "0.84"
      ]
     },
     "execution_count": 113,
     "metadata": {},
     "output_type": "execute_result"
    }
   ],
   "source": [
    "\n",
    "model.score(X_test,y_test) "
   ]
  },
  {
   "cell_type": "code",
   "execution_count": null,
   "metadata": {},
   "outputs": [],
   "source": []
  },
  {
   "cell_type": "code",
   "execution_count": null,
   "metadata": {},
   "outputs": [],
   "source": []
  }
 ],
 "metadata": {
  "kernelspec": {
   "display_name": "Python 3",
   "language": "python",
   "name": "python3"
  },
  "language_info": {
   "codemirror_mode": {
    "name": "ipython",
    "version": 3
   },
   "file_extension": ".py",
   "mimetype": "text/x-python",
   "name": "python",
   "nbconvert_exporter": "python",
   "pygments_lexer": "ipython3",
   "version": "3.8.3"
  }
 },
 "nbformat": 4,
 "nbformat_minor": 4
}
